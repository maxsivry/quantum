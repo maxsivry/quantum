{
  "nbformat": 4,
  "nbformat_minor": 0,
  "metadata": {
    "colab": {
      "provenance": []
    },
    "kernelspec": {
      "name": "python3",
      "display_name": "Python 3"
    },
    "language_info": {
      "name": "python"
    }
  },
  "cells": [
    {
      "cell_type": "markdown",
      "source": [
        "**qAIntum.ai**\n",
        "\n",
        "# **Quantum Neural Network (QNN) Classifier**\n",
        "\n",
        "This note is an example of using Photonic Analog (PA) QNN for binary classification. This is an application of the original work [\"Continuous Variable Quantum Neural Networks\"](https://arxiv.org/abs/1806.06871).\n",
        "\n",
        "Compared to Classical Neural Networks, PA QNNs have a reduced number of parameters to train and converge faster with fewer epochs. However, this is a quantum algorithm simulated on classical computers hence the training time for quantum circuits tend to be longder than classical models.\n",
        "\n",
        "The dataset used in this example can be found https://www.kaggle.com/datasets/shebrahimi/financial-distress.\n",
        "\n",
        "This file is organized in the following order:\n",
        "0. Install and import necessary packages\n",
        "1. Load and preprocess data (The data from Kaggle is saved as 'financial.csv'.\n",
        "2. Data encoding\n",
        "3. QNN model\n",
        "   * QNN layer\n",
        "   * QNN circuit\n",
        "   * Model building\n",
        "4. Model training\n",
        "5. Evaluation\n",
        "\n",
        "For the open source repository, refer to https://github.com/qaintumai/quantum."
      ],
      "metadata": {
        "id": "wqM5CnnKBbrM"
      }
    },
    {
      "cell_type": "markdown",
      "source": [
        "## **0. Intall Packages**\n",
        "\n",
        "[Pennylane](https://pennylane.ai/) is a Python based quantum machine learning library by Xanadu. An old version is necessary for this example: v0.29.1."
      ],
      "metadata": {
        "id": "lhj9WZRYC8xf"
      }
    },
    {
      "cell_type": "code",
      "source": [
        "!pip install -qqq torch torchvision\n",
        "!pip install -qqq pennylane\n",
        "!pip install -qqq pennylane-SF"
      ],
      "metadata": {
        "id": "tE3__8WZ868S",
        "colab": {
          "base_uri": "https://localhost:8080/"
        },
        "outputId": "93f7628f-3555-4f7d-a30e-22215d2533f0"
      },
      "execution_count": 8,
      "outputs": [
        {
          "output_type": "stream",
          "name": "stdout",
          "text": [
            "\u001b[2K     \u001b[90m━━━━━━━━━━━━━━━━━━━━━━━━━━━━━━━━━━━━━━━━\u001b[0m \u001b[32m14.0/14.0 MB\u001b[0m \u001b[31m8.4 MB/s\u001b[0m eta \u001b[36m0:00:00\u001b[0m\n",
            "\u001b[2K     \u001b[90m━━━━━━━━━━━━━━━━━━━━━━━━━━━━━━━━━━━━━━━━\u001b[0m \u001b[32m14.0/14.0 MB\u001b[0m \u001b[31m5.5 MB/s\u001b[0m eta \u001b[36m0:00:00\u001b[0m\n",
            "\u001b[2K     \u001b[90m━━━━━━━━━━━━━━━━━━━━━━━━━━━━━━━━━━━━━━━━\u001b[0m \u001b[32m13.6/13.6 MB\u001b[0m \u001b[31m8.3 MB/s\u001b[0m eta \u001b[36m0:00:00\u001b[0m\n",
            "\u001b[2K     \u001b[90m━━━━━━━━━━━━━━━━━━━━━━━━━━━━━━━━━━━━━━━━\u001b[0m \u001b[32m16.6/16.6 MB\u001b[0m \u001b[31m6.5 MB/s\u001b[0m eta \u001b[36m0:00:00\u001b[0m\n",
            "\u001b[2K     \u001b[90m━━━━━━━━━━━━━━━━━━━━━━━━━━━━━━━━━━━━━━━━\u001b[0m \u001b[32m16.6/16.6 MB\u001b[0m \u001b[31m4.5 MB/s\u001b[0m eta \u001b[36m0:00:00\u001b[0m\n",
            "\u001b[2K     \u001b[90m━━━━━━━━━━━━━━━━━━━━━━━━━━━━━━━━━━━━━━━━\u001b[0m \u001b[32m117.2/117.2 kB\u001b[0m \u001b[31m5.0 MB/s\u001b[0m eta \u001b[36m0:00:00\u001b[0m\n",
            "\u001b[?25h  Preparing metadata (setup.py) ... \u001b[?25l\u001b[?25hdone\n",
            "\u001b[2K     \u001b[90m━━━━━━━━━━━━━━━━━━━━━━━━━━━━━━━━━━━━━━━━\u001b[0m \u001b[32m103.5/103.5 kB\u001b[0m \u001b[31m7.7 MB/s\u001b[0m eta \u001b[36m0:00:00\u001b[0m\n",
            "\u001b[2K     \u001b[90m━━━━━━━━━━━━━━━━━━━━━━━━━━━━━━━━━━━━━━━━\u001b[0m \u001b[32m88.4/88.4 kB\u001b[0m \u001b[31m3.6 MB/s\u001b[0m eta \u001b[36m0:00:00\u001b[0m\n",
            "\u001b[?25h  Preparing metadata (setup.py) ... \u001b[?25l\u001b[?25hdone\n",
            "  Building wheel for antlr4-python3-runtime (setup.py) ... \u001b[?25l\u001b[?25hdone\n",
            "  Building wheel for fire (setup.py) ... \u001b[?25l\u001b[?25hdone\n",
            "\u001b[31mERROR: pip's dependency resolver does not currently take into account all the packages that are installed. This behaviour is the source of the following dependency conflicts.\n",
            "chex 0.1.86 requires numpy>=1.24.1, but you have numpy 1.23.5 which is incompatible.\n",
            "pandas-stubs 2.0.3.230814 requires numpy>=1.25.0; python_version >= \"3.9\", but you have numpy 1.23.5 which is incompatible.\u001b[0m\u001b[31m\n",
            "\u001b[0m"
          ]
        }
      ]
    },
    {
      "cell_type": "markdown",
      "source": [
        "## **0. Import Packages**"
      ],
      "metadata": {
        "id": "It6FrGqWDFZz"
      }
    },
    {
      "cell_type": "code",
      "source": [
        "import numpy as np\n",
        "import pandas as pd\n",
        "import torch\n",
        "import pennylane as qml\n",
        "\n",
        "from sklearn.preprocessing import MinMaxScaler\n",
        "from sklearn.preprocessing import StandardScaler"
      ],
      "metadata": {
        "id": "fXgVhFJrnQmW"
      },
      "execution_count": 9,
      "outputs": []
    },
    {
      "cell_type": "markdown",
      "source": [
        "## **1. Load and Preprocess Data**\n",
        "\n",
        "Data: Financial Distress\n",
        "Data points: 3,672\n",
        "Number of features: 83\n",
        "Label: real values indicating financial health\n",
        "\n",
        "For the purpose of this experiment, we are using only 100 data points for training and 20 for testing.\n",
        "\n",
        "data source: https://www.kaggle.com/datasets/shebrahimi/financial-distress"
      ],
      "metadata": {
        "id": "2cBEgVYWDKPd"
      }
    },
    {
      "cell_type": "code",
      "source": [
        "def load_and_preprocess_data(file_path):\n",
        "    \"\"\"\n",
        "    Load 'financial.csv' and preprocess the data.\n",
        "    Input: file path\n",
        "    Output: X_train, X_test, y_train, y_test\n",
        "    \"\"\"\n",
        "    df = pd.read_csv(file_path)\n",
        "    df = df.drop(['Company', 'Time'], axis=1)\n",
        "    df.iloc[:, 0][df.iloc[:, 0] > 0.55] = 1.0\n",
        "    df.iloc[:, 0][df.iloc[:, 0] <= 0.55] = 0.0\n",
        "\n",
        "    y = df.iloc[:, 0]\n",
        "    X = df.iloc[:, 1:]\n",
        "\n",
        "    X = X.to_numpy()\n",
        "    y = y.to_numpy()\n",
        "\n",
        "    scaler = MinMaxScaler(feature_range=(0, 1))\n",
        "    y_scaled = scaler.fit_transform(y.reshape(-1, 1))\n",
        "\n",
        "    X_train = X[:100]\n",
        "    X_test = X[100:120]\n",
        "    y_train = y_scaled[:100]\n",
        "    y_test = y_scaled[100:120]\n",
        "\n",
        "    scaler = StandardScaler()\n",
        "    scaler.fit(X_train)\n",
        "    X_train_scaled = scaler.transform(X_train)\n",
        "    X_test_scaled = scaler.transform(X_test)\n",
        "\n",
        "    X_train = torch.tensor(X_train_scaled, requires_grad=True).float()\n",
        "    X_test = torch.tensor(X_test_scaled, requires_grad=False).float()\n",
        "    y_train = torch.tensor(np.reshape(y_train, y_train.shape[0]), requires_grad=False).float()\n",
        "    y_test = torch.tensor(np.reshape(y_test, y_test.shape[0]), requires_grad=False).float()\n",
        "\n",
        "    return X_train, X_test, y_train, y_test"
      ],
      "metadata": {
        "id": "_GTnJWuNPFwJ"
      },
      "execution_count": 10,
      "outputs": []
    },
    {
      "cell_type": "code",
      "source": [
        "X_train, X_test, y_train, y_test = load_and_preprocess_data('financial.csv')"
      ],
      "metadata": {
        "colab": {
          "base_uri": "https://localhost:8080/"
        },
        "id": "P1oiuxWnPbZh",
        "outputId": "863701b6-4d14-4790-ee09-196b452cb531"
      },
      "execution_count": 11,
      "outputs": [
        {
          "output_type": "stream",
          "name": "stderr",
          "text": [
            "<ipython-input-10-a495bbaed2c8>:9: SettingWithCopyWarning: \n",
            "A value is trying to be set on a copy of a slice from a DataFrame\n",
            "\n",
            "See the caveats in the documentation: https://pandas.pydata.org/pandas-docs/stable/user_guide/indexing.html#returning-a-view-versus-a-copy\n",
            "  df.iloc[:, 0][df.iloc[:, 0] > 0.55] = 1.0\n",
            "<ipython-input-10-a495bbaed2c8>:10: SettingWithCopyWarning: \n",
            "A value is trying to be set on a copy of a slice from a DataFrame\n",
            "\n",
            "See the caveats in the documentation: https://pandas.pydata.org/pandas-docs/stable/user_guide/indexing.html#returning-a-view-versus-a-copy\n",
            "  df.iloc[:, 0][df.iloc[:, 0] <= 0.55] = 0.0\n"
          ]
        }
      ]
    },
    {
      "cell_type": "markdown",
      "source": [
        "## **2. Data Encoding**\n",
        "\n",
        "This step converts classical data into a quantum state by using the data entries as parameters of the quantum gates.\n",
        "\n",
        "The data encoding gates used are Squeezing, Rotation, Beamsplitter, Displacement Gate, and Kerr Gate. Other gates under \"CV operators\" in the Pennylane package can be explored."
      ],
      "metadata": {
        "id": "nxvvvhc_DT20"
      }
    },
    {
      "cell_type": "code",
      "source": [
        "def data_encoding(x):\n",
        "    \"\"\"\n",
        "    This function converts classical data into a quantum state by using the data entries as parameters of the quantum gates.\n",
        "    Input: classical data (x)\n",
        "    No output: quantum state prepared to be operated on by the quantum layers\n",
        "    \"\"\"\n",
        "    num_features = len(x)\n",
        "    num_wires = 8\n",
        "\n",
        "    # Squeezing gates\n",
        "    for i in range(0, min(num_features, num_wires * 2), 2):\n",
        "        qml.Squeezing(x[i], x[i + 1], wires=i // 2)\n",
        "\n",
        "    # Beamsplitter gates\n",
        "    for i in range(num_wires - 1):\n",
        "        idx = num_wires * 2 + i * 2\n",
        "        if idx + 1 < num_features:\n",
        "            qml.Beamsplitter(x[idx], x[idx + 1], wires=[i % num_wires, (i + 1) % num_wires])\n",
        "\n",
        "    # Rotation gates\n",
        "    for i in range(num_wires):\n",
        "        idx = num_wires * 2 + (num_wires - 1) * 2 + i\n",
        "        if idx < num_features:\n",
        "            qml.Rotation(x[idx], wires=i)\n",
        "\n",
        "    # Displacement gates\n",
        "    for i in range(num_wires):\n",
        "        idx = num_wires * 2 + (num_wires - 1) * 2 + num_wires + i * 2\n",
        "        if idx + 1 < num_features:\n",
        "            qml.Displacement(x[idx], x[idx + 1], wires=i)\n",
        "\n",
        "    # Kerr gates\n",
        "    for i in range(num_wires):\n",
        "        idx = num_wires * 2 + (num_wires - 1) * 2 + num_wires + num_wires * 2 + i\n",
        "        if idx < num_features:\n",
        "            qml.Kerr(x[idx], wires=i)\n",
        "\n",
        "    # Squeezing gates (second set)\n",
        "    for i in range(0, min(num_features - (num_wires * 2 + (num_wires - 1) * 2 + num_wires + num_wires * 2 + num_wires), num_wires * 2), 2):\n",
        "        idx = num_wires * 2 + (num_wires - 1) * 2 + num_wires + num_wires * 2 + num_wires + i\n",
        "        if idx + 1 < num_features:\n",
        "            qml.Squeezing(x[idx], x[idx + 1], wires=i // 2)\n",
        "\n",
        "    # Rotation gates (second set)\n",
        "    for i in range(num_wires):\n",
        "        idx = num_wires * 2 + (num_wires - 1) * 2 + num_wires + num_wires * 2 + num_wires + num_wires * 2 + i\n",
        "        if idx < num_features:\n",
        "            qml.Rotation(x[idx], wires=i)"
      ],
      "metadata": {
        "id": "vWO3IB1iWFmz"
      },
      "execution_count": 12,
      "outputs": []
    },
    {
      "cell_type": "markdown",
      "source": [
        "## **3. QNN Model**\n",
        "To build a model, we need to\n",
        "* define a layer\n",
        "* build a circuit with the defined layer\n",
        "* build a model with the defined circuit.\n",
        "\n",
        "\n"
      ],
      "metadata": {
        "id": "cKuUlBY2D7My"
      }
    },
    {
      "cell_type": "markdown",
      "source": [
        "### **3.1 QNN Layer**\n",
        "This in a faithful implementation of classical neural networks:\n",
        "* Weight matrix: Interferometer 1 + Squeezing + Interferometer 2\n",
        "* Bias addition: Displacement gate\n",
        "* Nonlinear activation function: Kerr gate"
      ],
      "metadata": {
        "id": "WC0LJy4pPK-G"
      }
    },
    {
      "cell_type": "code",
      "source": [
        "def qnn_layer(v):\n",
        "    \"\"\"\n",
        "    This is one layer of QNN\n",
        "    Input: quantum parameters (v)\n",
        "    No output: quantum state prepared to be measured\n",
        "    \"\"\"\n",
        "    num_params = len(v)\n",
        "    num_wires = 8\n",
        "\n",
        "    # Interferometer 1\n",
        "    for i in range(num_wires - 1):\n",
        "        idx = i * 2\n",
        "        if idx + 1 < num_params:\n",
        "            theta = v[idx]\n",
        "            phi = v[idx + 1]\n",
        "            qml.Beamsplitter(theta, phi, wires=[i % num_wires, (i + 1) % num_wires])\n",
        "\n",
        "    for i in range(num_wires):\n",
        "        idx = (num_wires - 1) * 2 + i\n",
        "        if idx < num_params:\n",
        "            qml.Rotation(v[idx], wires=i)\n",
        "\n",
        "    # Squeezers\n",
        "    for i in range(num_wires):\n",
        "        idx = (num_wires - 1) * 2 + num_wires + i\n",
        "        if idx < num_params:\n",
        "            qml.Squeezing(v[idx], 0.0, wires=i)\n",
        "\n",
        "    # Interferometer 2\n",
        "    for i in range(num_wires - 1):\n",
        "        idx = (num_wires - 1) * 2 + num_wires + num_wires + i * 2\n",
        "        if idx + 1 < num_params:\n",
        "            theta = v[idx]\n",
        "            phi = v[idx + 1]\n",
        "            qml.Beamsplitter(theta, phi, wires=[i % num_wires, (i + 1) % num_wires])\n",
        "\n",
        "    for i in range(num_wires):\n",
        "        idx = (num_wires - 1) * 2 + num_wires + num_wires + (num_wires - 1) * 2 + i\n",
        "        if idx < num_params:\n",
        "            qml.Rotation(v[idx], wires=i)\n",
        "\n",
        "    # Bias addition\n",
        "    for i in range(num_wires):\n",
        "        idx = (num_wires - 1) * 2 + num_wires + num_wires + (num_wires - 1) * 2 + num_wires + i\n",
        "        if idx < num_params:\n",
        "            qml.Displacement(v[idx], 0.0, wires=i)\n",
        "\n",
        "    # Non-linear activation function\n",
        "    for i in range(num_wires):\n",
        "        idx = (num_wires - 1) * 2 + num_wires + num_wires + (num_wires - 1) * 2 + num_wires + num_wires + i\n",
        "        if idx < num_params:\n",
        "            qml.Kerr(v[idx], wires=i)"
      ],
      "metadata": {
        "id": "k-XQkaPgWJ6D"
      },
      "execution_count": 13,
      "outputs": []
    },
    {
      "cell_type": "markdown",
      "source": [
        "**Weight Initializer**\n",
        "\n",
        "Randomly initialized values are used as initial parameters of the QNN circuit."
      ],
      "metadata": {
        "id": "MvIfx9D1JEvK"
      }
    },
    {
      "cell_type": "code",
      "source": [
        "def init_weights(layers, num_wires, active_sd=0.0001, passive_sd=0.1):\n",
        "    \"\"\"\n",
        "    This is a weight vector initializer.\n",
        "    Input: number of layers, number of wires\n",
        "    Output: concatenated weight vector\n",
        "    \"\"\"\n",
        "    M = (num_wires-1)*2 + num_wires  # Number of interferometer parameters\n",
        "\n",
        "    int1_weights = np.random.normal(size=[layers, M], scale=passive_sd)\n",
        "    s_weights = np.random.normal(size=[layers, num_wires], scale=active_sd)\n",
        "    int2_weights = np.random.normal(size=[layers, M], scale=passive_sd)\n",
        "    dr_weights = np.random.normal(size=[layers, num_wires], scale=active_sd)\n",
        "    k_weights = np.random.normal(size=[layers, num_wires], scale=active_sd)\n",
        "\n",
        "    weights = np.concatenate([int1_weights, s_weights, int2_weights, dr_weights, k_weights], axis=1)\n",
        "\n",
        "    return weights"
      ],
      "metadata": {
        "id": "hgxIT-LTWMdl"
      },
      "execution_count": 14,
      "outputs": []
    },
    {
      "cell_type": "markdown",
      "source": [
        "### **3.2 QNN Circuit**\n",
        "\n",
        "For building a PA circuit as opposed to a qubit-based circuit, we have to choose \"strawberryfields.fock\" as device."
      ],
      "metadata": {
        "id": "5gsoymu4JhDX"
      }
    },
    {
      "cell_type": "code",
      "source": [
        "num_wires = 8\n",
        "num_basis = 2\n",
        "\n",
        "# select a device\n",
        "dev = qml.device(\"strawberryfields.fock\", wires=num_wires, cutoff_dim=num_basis)\n",
        "\n",
        "@qml.qnode(dev, interface=\"torch\")\n",
        "def quantum_nn(inputs, var):\n",
        "    \"\"\"\n",
        "    This is a quantum circuit composed of a data encoding circuit and a QNN circuit.\n",
        "    Input: classical data (inputs), quantum parameters (var)\n",
        "    Output: quantum state, converted to classical data after measurement\n",
        "    \"\"\"\n",
        "    # convert classical inputs into quantum states\n",
        "    data_encoding(inputs)\n",
        "\n",
        "    # iterative quantum layers\n",
        "    for v in var:\n",
        "        qnn_layer(v)\n",
        "\n",
        "    # measure the resulting state and return\n",
        "    return qml.expval(qml.X(0))"
      ],
      "metadata": {
        "id": "CqD_AY5hWRQJ"
      },
      "execution_count": 15,
      "outputs": []
    },
    {
      "cell_type": "markdown",
      "source": [
        "### **3.3 Model building**"
      ],
      "metadata": {
        "id": "G2UWYAG5PlBR"
      }
    },
    {
      "cell_type": "code",
      "source": [
        "num_layers = 2\n",
        "\n",
        "def get_model(num_wires, num_layers):\n",
        "    \"\"\"\n",
        "    This is a model building function.\n",
        "    Input: number of modes, number of layers\n",
        "    Output: PyTorch model\n",
        "    \"\"\"\n",
        "    weights = init_weights(num_layers, num_wires)\n",
        "    shape_tup = weights.shape\n",
        "    weight_shapes = {'var': shape_tup}\n",
        "    qlayer = qml.qnn.TorchLayer(quantum_nn, weight_shapes)\n",
        "    model = torch.nn.Sequential(qlayer)\n",
        "    return model"
      ],
      "metadata": {
        "id": "5OoLbvMyP5yI"
      },
      "execution_count": 16,
      "outputs": []
    },
    {
      "cell_type": "code",
      "source": [
        "model = get_model(num_wires, num_layers)"
      ],
      "metadata": {
        "id": "qGmhPxDVSMeB"
      },
      "execution_count": 18,
      "outputs": []
    },
    {
      "cell_type": "markdown",
      "source": [
        "## **4. Model Training**"
      ],
      "metadata": {
        "id": "bD9VFed3QTDa"
      }
    },
    {
      "cell_type": "code",
      "source": [
        "def train_model(model, X_train, y_train, batch_size=5, epochs=6):\n",
        "    loss_fn = torch.nn.MSELoss()\n",
        "    optimizer = torch.optim.Adam(model.parameters(), lr=0.001)\n",
        "\n",
        "    data_loader = torch.utils.data.DataLoader(\n",
        "        list(zip(X_train, y_train)), batch_size=batch_size, shuffle=True, drop_last=True\n",
        "    )\n",
        "\n",
        "    for epoch in range(epochs):\n",
        "        running_loss = 0\n",
        "        for xs, ys in data_loader:\n",
        "            optimizer.zero_grad()\n",
        "            x = model(xs).float()\n",
        "            y = ys.float()\n",
        "            loss = loss_fn(x, y)\n",
        "            loss.backward()\n",
        "            optimizer.step()\n",
        "            running_loss += loss.item()\n",
        "        avg_loss = running_loss / len(data_loader)\n",
        "        print(f\"Average loss over epoch {epoch + 1}: {avg_loss:.4f}\")"
      ],
      "metadata": {
        "id": "S3eluEwDQBAo"
      },
      "execution_count": 25,
      "outputs": []
    },
    {
      "cell_type": "code",
      "source": [
        "train_model(model, X_train, y_train, batch_size=5, epochs=3)"
      ],
      "metadata": {
        "colab": {
          "base_uri": "https://localhost:8080/"
        },
        "id": "eGPJ2eHmQfwf",
        "outputId": "b50ca368-73f5-4ba3-8bbd-d21a19ae7f22"
      },
      "execution_count": 26,
      "outputs": [
        {
          "output_type": "stream",
          "name": "stdout",
          "text": [
            "Average loss over epoch 1: 0.5400\n",
            "Average loss over epoch 2: 0.5400\n",
            "Average loss over epoch 3: 0.5400\n"
          ]
        }
      ]
    },
    {
      "cell_type": "markdown",
      "source": [
        "## **5. Evaluation**"
      ],
      "metadata": {
        "id": "wUoLVYZfQhso"
      }
    },
    {
      "cell_type": "code",
      "source": [
        "def evaluate_model(model, X_test, y_test):\n",
        "    y_pred = model(X_test).detach().numpy()\n",
        "    y_test = y_test.numpy()\n",
        "    correct = [1 if p == p_true else 0 for p, p_true in zip(y_pred, y_test)]\n",
        "    accuracy = sum(correct) / len(y_test)\n",
        "    print(f\"Accuracy: {accuracy * 100}%\")"
      ],
      "metadata": {
        "id": "aJKoK9LBQcyk"
      },
      "execution_count": 27,
      "outputs": []
    },
    {
      "cell_type": "code",
      "execution_count": 28,
      "metadata": {
        "id": "ukFClVII82fH",
        "colab": {
          "base_uri": "https://localhost:8080/"
        },
        "outputId": "6a7e2bb6-5f55-412b-8d78-122c07d79c10"
      },
      "outputs": [
        {
          "output_type": "stream",
          "name": "stdout",
          "text": [
            "Accuracy: 85.0%\n"
          ]
        }
      ],
      "source": [
        "evaluate_model(model, X_test, y_test)"
      ]
    }
  ]
}